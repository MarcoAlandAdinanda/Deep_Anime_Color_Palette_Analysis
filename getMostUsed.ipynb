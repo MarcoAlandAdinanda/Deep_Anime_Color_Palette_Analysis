{
 "cells": [
  {
   "cell_type": "code",
   "execution_count": 25,
   "metadata": {},
   "outputs": [
    {
     "data": {
      "text/html": [
       "<div>\n",
       "<style scoped>\n",
       "    .dataframe tbody tr th:only-of-type {\n",
       "        vertical-align: middle;\n",
       "    }\n",
       "\n",
       "    .dataframe tbody tr th {\n",
       "        vertical-align: top;\n",
       "    }\n",
       "\n",
       "    .dataframe thead th {\n",
       "        text-align: right;\n",
       "    }\n",
       "</style>\n",
       "<table border=\"1\" class=\"dataframe\">\n",
       "  <thead>\n",
       "    <tr style=\"text-align: right;\">\n",
       "      <th></th>\n",
       "      <th>jp_title</th>\n",
       "      <th>char_name</th>\n",
       "      <th>fav</th>\n",
       "      <th>img</th>\n",
       "      <th>colors</th>\n",
       "    </tr>\n",
       "  </thead>\n",
       "  <tbody>\n",
       "    <tr>\n",
       "      <th>0</th>\n",
       "      <td>Horimiya</td>\n",
       "      <td>Izumi Miyamura (宮村 伊澄)</td>\n",
       "      <td>16137</td>\n",
       "      <td>https://cdn.myanimelist.net/images/characters/...</td>\n",
       "      <td>[[194, 222, 249], [185, 220, 250], [177, 200, ...</td>\n",
       "    </tr>\n",
       "    <tr>\n",
       "      <th>1</th>\n",
       "      <td>Horimiya</td>\n",
       "      <td>Kyouko Hori (堀 京子)</td>\n",
       "      <td>12528</td>\n",
       "      <td>https://cdn.myanimelist.net/images/characters/...</td>\n",
       "      <td>[[220, 237, 253], [208, 227, 250], [192, 203, ...</td>\n",
       "    </tr>\n",
       "    <tr>\n",
       "      <th>2</th>\n",
       "      <td>Horimiya</td>\n",
       "      <td>Yuki Yoshikawa (吉川 由紀)</td>\n",
       "      <td>1502</td>\n",
       "      <td>https://cdn.myanimelist.net/images/characters/...</td>\n",
       "      <td>[[195, 219, 249], [158, 226, 245], [141, 216, ...</td>\n",
       "    </tr>\n",
       "    <tr>\n",
       "      <th>3</th>\n",
       "      <td>Mushoku Tensei: Isekai Ittara Honki Dasu</td>\n",
       "      <td>Rudeus Greyrat (ルーデウス・グレイラット)</td>\n",
       "      <td>10221</td>\n",
       "      <td>https://cdn.myanimelist.net/images/characters/...</td>\n",
       "      <td>[[221, 234, 246], [179, 215, 251], [140, 207, ...</td>\n",
       "    </tr>\n",
       "    <tr>\n",
       "      <th>4</th>\n",
       "      <td>Mushoku Tensei: Isekai Ittara Honki Dasu</td>\n",
       "      <td>Roxy Migurdia (ロキシー・ミグルディア)</td>\n",
       "      <td>9320</td>\n",
       "      <td>https://cdn.myanimelist.net/images/characters/...</td>\n",
       "      <td>[[215, 231, 239], [182, 206, 247], [162, 196, ...</td>\n",
       "    </tr>\n",
       "  </tbody>\n",
       "</table>\n",
       "</div>"
      ],
      "text/plain": [
       "                                   jp_title                      char_name  \\\n",
       "0                                  Horimiya         Izumi Miyamura (宮村 伊澄)   \n",
       "1                                  Horimiya             Kyouko Hori (堀 京子)   \n",
       "2                                  Horimiya         Yuki Yoshikawa (吉川 由紀)   \n",
       "3  Mushoku Tensei: Isekai Ittara Honki Dasu  Rudeus Greyrat (ルーデウス・グレイラット)   \n",
       "4  Mushoku Tensei: Isekai Ittara Honki Dasu    Roxy Migurdia (ロキシー・ミグルディア)   \n",
       "\n",
       "     fav                                                img  \\\n",
       "0  16137  https://cdn.myanimelist.net/images/characters/...   \n",
       "1  12528  https://cdn.myanimelist.net/images/characters/...   \n",
       "2   1502  https://cdn.myanimelist.net/images/characters/...   \n",
       "3  10221  https://cdn.myanimelist.net/images/characters/...   \n",
       "4   9320  https://cdn.myanimelist.net/images/characters/...   \n",
       "\n",
       "                                              colors  \n",
       "0  [[194, 222, 249], [185, 220, 250], [177, 200, ...  \n",
       "1  [[220, 237, 253], [208, 227, 250], [192, 203, ...  \n",
       "2  [[195, 219, 249], [158, 226, 245], [141, 216, ...  \n",
       "3  [[221, 234, 246], [179, 215, 251], [140, 207, ...  \n",
       "4  [[215, 231, 239], [182, 206, 247], [162, 196, ...  "
      ]
     },
     "execution_count": 25,
     "metadata": {},
     "output_type": "execute_result"
    }
   ],
   "source": [
    "import pandas as pd\n",
    "import numpy as np\n",
    "from ast import literal_eval\n",
    "\n",
    "# Load the CSV file\n",
    "data = pd.read_csv(\"complete_fixed_filtered_char_color.csv\")\n",
    "\n",
    "# Drop columns safely\n",
    "columns_to_drop = [\"Unnamed: 0.1\", \"test\", \"Unnamed: 0\"]\n",
    "data = data.drop(columns=[col for col in columns_to_drop if col in data.columns], errors='ignore')\n",
    "\n",
    "# Convert string representations of lists/dictionaries to Python objects\n",
    "data['colors'] = data['colors'].apply(lambda x: literal_eval(x) if isinstance(x, str) else x)\n",
    "\n",
    "# Display the first few rows\n",
    "data.head()"
   ]
  },
  {
   "cell_type": "code",
   "execution_count": 32,
   "metadata": {},
   "outputs": [
    {
     "name": "stdout",
     "output_type": "stream",
     "text": [
      "Number of character: 308\n",
      "Expected shape: (9240, 3)\n",
      "Real color (9240, 3)\n",
      "Flatten: 27720\n"
     ]
    }
   ],
   "source": [
    "# Flatten all color lists (ensure each row is a 30x3 list)\n",
    "all_colors = np.array([color for sublist in data['colors'] if isinstance(sublist, list) for color in sublist])\n",
    "\n",
    "print(\"Number of character:\", len(data['colors'])) \n",
    "print(\"Expected shape:\", (len(data['colors'])*30, 3))\n",
    "print(\"Real color\", all_colors.shape)\n",
    "print(\"Flatten:\", 9240*3)"
   ]
  },
  {
   "cell_type": "code",
   "execution_count": 34,
   "metadata": {},
   "outputs": [
    {
     "name": "stdout",
     "output_type": "stream",
     "text": [
      "[[194 222 249]\n",
      " [185 220 250]\n",
      " [177 200 225]\n",
      " ...\n",
      " [ 77 150 246]\n",
      " [251 244 242]\n",
      " [252 248 247]]\n"
     ]
    }
   ],
   "source": [
    "list_color = []\n",
    "\n",
    "for character_color in data['colors']:\n",
    "    if type(character_color) == list:\n",
    "        for color in character_color:\n",
    "            list_color.append(color)\n",
    "\n",
    "used_colors = np.array(list_color)\n",
    "print(used_colors)"
   ]
  },
  {
   "cell_type": "code",
   "execution_count": 35,
   "metadata": {},
   "outputs": [
    {
     "data": {
      "text/plain": [
       "array([2, 1, 1, ..., 6, 2, 2], shape=(9240,), dtype=int32)"
      ]
     },
     "execution_count": 35,
     "metadata": {},
     "output_type": "execute_result"
    }
   ],
   "source": [
    "from sklearn.cluster import KMeans\n",
    "\n",
    "num_clusters = 10\n",
    "\n",
    "kmeans = KMeans(n_clusters=num_clusters, random_state=42)\n",
    "kmeans.fit_predict(all_colors)"
   ]
  },
  {
   "cell_type": "code",
   "execution_count": 62,
   "metadata": {},
   "outputs": [
    {
     "data": {
      "text/plain": [
       "(17490, 3)"
      ]
     },
     "execution_count": 62,
     "metadata": {},
     "output_type": "execute_result"
    }
   ],
   "source": [
    "all_colors.shape"
   ]
  },
  {
   "cell_type": "code",
   "execution_count": 59,
   "metadata": {},
   "outputs": [
    {
     "ename": "ValueError",
     "evalue": "cannot reshape array of size 52470 into shape (52470,3)",
     "output_type": "error",
     "traceback": [
      "\u001b[31m---------------------------------------------------------------------------\u001b[39m",
      "\u001b[31mValueError\u001b[39m                                Traceback (most recent call last)",
      "\u001b[36mCell\u001b[39m\u001b[36m \u001b[39m\u001b[32mIn[59]\u001b[39m\u001b[32m, line 1\u001b[39m\n\u001b[32m----> \u001b[39m\u001b[32m1\u001b[39m \u001b[43mall_colors\u001b[49m\u001b[43m.\u001b[49m\u001b[43mreshape\u001b[49m\u001b[43m(\u001b[49m\u001b[32;43m52470\u001b[39;49m\u001b[43m,\u001b[49m\u001b[32;43m3\u001b[39;49m\u001b[43m)\u001b[49m\n",
      "\u001b[31mValueError\u001b[39m: cannot reshape array of size 52470 into shape (52470,3)"
     ]
    }
   ],
   "source": [
    "all_colors.reshape(52470,3)"
   ]
  },
  {
   "cell_type": "code",
   "execution_count": 50,
   "metadata": {},
   "outputs": [
    {
     "data": {
      "text/plain": [
       "list"
      ]
     },
     "execution_count": 50,
     "metadata": {},
     "output_type": "execute_result"
    }
   ],
   "source": [
    "type(data['colors'][0])"
   ]
  },
  {
   "cell_type": "markdown",
   "metadata": {},
   "source": []
  }
 ],
 "metadata": {
  "kernelspec": {
   "display_name": "data-sci-env",
   "language": "python",
   "name": "python3"
  },
  "language_info": {
   "codemirror_mode": {
    "name": "ipython",
    "version": 3
   },
   "file_extension": ".py",
   "mimetype": "text/x-python",
   "name": "python",
   "nbconvert_exporter": "python",
   "pygments_lexer": "ipython3",
   "version": "3.13.1"
  }
 },
 "nbformat": 4,
 "nbformat_minor": 2
}
